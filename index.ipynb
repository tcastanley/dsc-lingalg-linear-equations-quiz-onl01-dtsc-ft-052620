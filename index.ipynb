{
 "cells": [
  {
   "cell_type": "markdown",
   "metadata": {},
   "source": [
    "# Systems of Linear Equations - Lab\n",
    "\n",
    "## Introduction\n",
    "The following scenarios present problems that can be solved as a system of equations while performing substitutions and eliminations as you saw in the previous lesson.\n",
    "\n",
    "* Solve these problems by hand, showing all the steps to work out the unknown variable values \n",
    "* Verify your answers by showing the calculated values satisfy all equations\n",
    "\n",
    "## Objectives\n",
    "\n",
    "In this lab you will: \n",
    "\n",
    "- Solve a system of equations using elimination and substitution\n",
    "\n",
    "## Exercise 1\n",
    "Jane paid 12 dollars for 4 cups of coffee and 4 cups of tea. 3 cups of coffee cost as much as 2 cups of tea. What would be the total cost of 5 cups of coffee and 5 cups of tea?\n",
    "\n",
    "### Solution\n",
    "\n",
    "> Let $x$ be the unit price of coffee and $y$ be the unit price of tea"
   ]
  },
  {
   "cell_type": "markdown",
   "metadata": {},
   "source": [
    "A) 4x + 4y = 12\n",
    "B) 3x = 2y\n",
    "\n",
    "Reduce and Rearrange\n",
    "\n",
    "A) x = 3 - y\n",
    "B) 3x -2y = 0\n",
    "\n",
    "Substitute x from A) into B)\n",
    "\n",
    "B) 3(3 - y) -2y = 0\n",
    "\n",
    "Rearrange B) & Solve for y\n",
    "\n",
    "B) 9 - 3y - 2y = 0\n",
    "B) 9 = 5y\n",
    "B) y = 9/5\n",
    "\n",
    "Substitute y into A) and solve for x\n",
    "\n",
    "A) x = 3 - (9/5)\n",
    "A) x = 6/5\n",
    "\n",
    "Now solve for the question\n",
    "\n",
    "5x + 5y = ?\n",
    "5(6/5) + 5(9/5) = ?\n",
    "6 + 9 = ?\n",
    "15!"
   ]
  },
  {
   "cell_type": "markdown",
   "metadata": {},
   "source": [
    "## Exercise 2\n",
    "\n",
    "Jim has more money than Bob. If Jim gave Bob 20 dollars, they would have the same amount. If Bob gave Jim 22 dollars, however, Jim would then have twice as much as Bob. \n",
    "\n",
    "How much does each one actually have?\n",
    "\n",
    "### Solution\n",
    "> Let x be the amount of money that Jim has and y be the amount that Bob has "
   ]
  },
  {
   "cell_type": "code",
   "execution_count": 2,
   "metadata": {
    "ExecuteTime": {
     "end_time": "2020-07-30T22:36:49.630883Z",
     "start_time": "2020-07-30T22:36:49.625890Z"
    }
   },
   "outputs": [
    {
     "data": {
      "text/plain": [
       "'\\nx > y\\n\\nA) x - 20 = y + 20\\n\\nB) x + 22 = 2(y - 22)\\n\\nReduce\\n\\nA) x = y + 40\\n\\nB) y + 40 + 22 = 2(y - 22)\\nB) y + 66 = 2y - 44\\nB) y = 106\\n\\nSubstitute back into A)\\n\\nA) x - 20 = 106 + 20\\nA) x = 146\\n\\nTherefore, Jim has $146 & Bob has $106\\n\\n'"
      ]
     },
     "execution_count": 2,
     "metadata": {},
     "output_type": "execute_result"
    }
   ],
   "source": [
    "# Your solution here \n",
    "'''\n",
    "x > y\n",
    "\n",
    "A) x - 20 = y + 20\n",
    "\n",
    "B) x + 22 = 2(y - 22)\n",
    "\n",
    "Reduce\n",
    "\n",
    "A) x = y + 40\n",
    "\n",
    "B) y + 40 + 22 = 2(y - 22)\n",
    "B) y + 66 = 2y - 44\n",
    "B) y = 106\n",
    "\n",
    "Substitute back into A)\n",
    "\n",
    "A) x - 20 = 106 + 20\n",
    "A) x = 146\n",
    "\n",
    "Therefore, Jim has $146 & Bob has $106\n",
    "\n",
    "'''"
   ]
  },
  {
   "cell_type": "markdown",
   "metadata": {},
   "source": [
    "## Exercise 3\n",
    "\n",
    "Mia has 30 coins, consisting of quarters (25 cents) and dimes (10 cents), which totals to the amount 5.70 dollars.  \n",
    "How many of each does she have?\n",
    "\n",
    "### Solution\n",
    "\n",
    "> Let x be the number of quarters and y be the number of dimes "
   ]
  },
  {
   "cell_type": "code",
   "execution_count": null,
   "metadata": {},
   "outputs": [],
   "source": [
    "# Your solution here \n",
    "'''\n",
    "Total coins = 30\n",
    "\n",
    "\n",
    "x = ?\n",
    "y = ?\n",
    "\n",
    "What combinations equate to $5.70?\n",
    "\n",
    "A) x + y = 30\n",
    "\n",
    "B) .25x + .10y = 5.70\n",
    "\n",
    "To eliminate y, multiply A) by -10 & B) by 100\n",
    "\n",
    "A) - 10x - 10y = -300\n",
    "\n",
    "B) 25x + 10y = 570\n",
    "\n",
    "Add A) + B) \n",
    "\n",
    "15x = 570\n",
    "x = 18\n",
    "\n",
    "Therefore Mia has 18 Quarters and 12 Dimes!\n",
    "'''"
   ]
  },
  {
   "cell_type": "markdown",
   "metadata": {},
   "source": [
    "## Level up (Optional)\n",
    "For more practice with linear equations, visit the following links for more complex equations:\n",
    "\n",
    "* https://www.transum.org/software/SW/Starter_of_the_day/Students/Simultaneous_Equations.asp?Level=6\n",
    "* https://www.transum.org/software/SW/Starter_of_the_day/Students/Simultaneous_Equations.asp?Level=7\n",
    "\n",
    "## Summary\n",
    "\n",
    "In this lesson, you learned how to solve linear equations by hand to find the coefficient values. You'll now move forward to have a deeper look into vectors and matrices and how Python and NumPy can help us solve more complex equations in an analytical context. "
   ]
  }
 ],
 "metadata": {
  "kernelspec": {
   "display_name": "Python 3",
   "language": "python",
   "name": "python3"
  },
  "language_info": {
   "codemirror_mode": {
    "name": "ipython",
    "version": 3
   },
   "file_extension": ".py",
   "mimetype": "text/x-python",
   "name": "python",
   "nbconvert_exporter": "python",
   "pygments_lexer": "ipython3",
   "version": "3.6.6"
  },
  "toc": {
   "base_numbering": 1,
   "nav_menu": {},
   "number_sections": true,
   "sideBar": true,
   "skip_h1_title": false,
   "title_cell": "Table of Contents",
   "title_sidebar": "Contents",
   "toc_cell": false,
   "toc_position": {},
   "toc_section_display": true,
   "toc_window_display": false
  },
  "varInspector": {
   "cols": {
    "lenName": 16,
    "lenType": 16,
    "lenVar": 40
   },
   "kernels_config": {
    "python": {
     "delete_cmd_postfix": "",
     "delete_cmd_prefix": "del ",
     "library": "var_list.py",
     "varRefreshCmd": "print(var_dic_list())"
    },
    "r": {
     "delete_cmd_postfix": ") ",
     "delete_cmd_prefix": "rm(",
     "library": "var_list.r",
     "varRefreshCmd": "cat(var_dic_list()) "
    }
   },
   "types_to_exclude": [
    "module",
    "function",
    "builtin_function_or_method",
    "instance",
    "_Feature"
   ],
   "window_display": false
  }
 },
 "nbformat": 4,
 "nbformat_minor": 2
}
